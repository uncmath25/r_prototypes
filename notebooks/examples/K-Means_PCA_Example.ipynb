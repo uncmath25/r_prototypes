{
 "cells": [
  {
   "cell_type": "markdown",
   "metadata": {},
   "source": [
    "<h1> K-Mean Clustering Example using Principal Component Analysis Visualization </h1>"
   ]
  },
  {
   "cell_type": "markdown",
   "metadata": {},
   "source": [
    "<h2> Setup </h2>\n",
    "\n",
    "Setup the environment"
   ]
  },
  {
   "cell_type": "code",
   "execution_count": 1,
   "metadata": {
    "collapsed": true
   },
   "outputs": [],
   "source": [
    "#import rpy2\n",
    "#%load_ext rpy2.ipython\n",
    "\n",
    "setwd(\"C:/Users/colton.willig/Desktop/\")\n",
    "rm(list=ls())\n",
    "require(\"datasets\")"
   ]
  },
  {
   "cell_type": "markdown",
   "metadata": {},
   "source": [
    "<br>\n",
    "\n",
    "<h2> Data </h2>\n",
    "\n",
    "Load the a default R dataset for car information"
   ]
  },
  {
   "cell_type": "code",
   "execution_count": 2,
   "metadata": {
    "collapsed": true
   },
   "outputs": [],
   "source": [
    "data(mtcars)"
   ]
  },
  {
   "cell_type": "markdown",
   "metadata": {},
   "source": [
    "Here is a glimpse at the data"
   ]
  },
  {
   "cell_type": "code",
   "execution_count": 3,
   "metadata": {},
   "outputs": [
    {
     "data": {
      "text/html": [
       "<table>\n",
       "<thead><tr><th></th><th scope=col>mpg</th><th scope=col>cyl</th><th scope=col>disp</th><th scope=col>hp</th><th scope=col>drat</th><th scope=col>wt</th><th scope=col>qsec</th><th scope=col>vs</th><th scope=col>am</th><th scope=col>gear</th><th scope=col>carb</th></tr></thead>\n",
       "<tbody>\n",
       "\t<tr><th scope=row>Mazda RX4</th><td>21.0 </td><td>6    </td><td>160  </td><td>110  </td><td>3.90 </td><td>2.620</td><td>16.46</td><td>0    </td><td>1    </td><td>4    </td><td>4    </td></tr>\n",
       "\t<tr><th scope=row>Mazda RX4 Wag</th><td>21.0 </td><td>6    </td><td>160  </td><td>110  </td><td>3.90 </td><td>2.875</td><td>17.02</td><td>0    </td><td>1    </td><td>4    </td><td>4    </td></tr>\n",
       "\t<tr><th scope=row>Datsun 710</th><td>22.8 </td><td>4    </td><td>108  </td><td> 93  </td><td>3.85 </td><td>2.320</td><td>18.61</td><td>1    </td><td>1    </td><td>4    </td><td>1    </td></tr>\n",
       "\t<tr><th scope=row>Hornet 4 Drive</th><td>21.4 </td><td>6    </td><td>258  </td><td>110  </td><td>3.08 </td><td>3.215</td><td>19.44</td><td>1    </td><td>0    </td><td>3    </td><td>1    </td></tr>\n",
       "\t<tr><th scope=row>Hornet Sportabout</th><td>18.7 </td><td>8    </td><td>360  </td><td>175  </td><td>3.15 </td><td>3.440</td><td>17.02</td><td>0    </td><td>0    </td><td>3    </td><td>2    </td></tr>\n",
       "\t<tr><th scope=row>Valiant</th><td>18.1 </td><td>6    </td><td>225  </td><td>105  </td><td>2.76 </td><td>3.460</td><td>20.22</td><td>1    </td><td>0    </td><td>3    </td><td>1    </td></tr>\n",
       "</tbody>\n",
       "</table>\n"
      ],
      "text/latex": [
       "\\begin{tabular}{r|lllllllllll}\n",
       "  & mpg & cyl & disp & hp & drat & wt & qsec & vs & am & gear & carb\\\\\n",
       "\\hline\n",
       "\tMazda RX4 & 21.0  & 6     & 160   & 110   & 3.90  & 2.620 & 16.46 & 0     & 1     & 4     & 4    \\\\\n",
       "\tMazda RX4 Wag & 21.0  & 6     & 160   & 110   & 3.90  & 2.875 & 17.02 & 0     & 1     & 4     & 4    \\\\\n",
       "\tDatsun 710 & 22.8  & 4     & 108   &  93   & 3.85  & 2.320 & 18.61 & 1     & 1     & 4     & 1    \\\\\n",
       "\tHornet 4 Drive & 21.4  & 6     & 258   & 110   & 3.08  & 3.215 & 19.44 & 1     & 0     & 3     & 1    \\\\\n",
       "\tHornet Sportabout & 18.7  & 8     & 360   & 175   & 3.15  & 3.440 & 17.02 & 0     & 0     & 3     & 2    \\\\\n",
       "\tValiant & 18.1  & 6     & 225   & 105   & 2.76  & 3.460 & 20.22 & 1     & 0     & 3     & 1    \\\\\n",
       "\\end{tabular}\n"
      ],
      "text/markdown": [
       "\n",
       "| <!--/--> | mpg | cyl | disp | hp | drat | wt | qsec | vs | am | gear | carb | \n",
       "|---|---|---|---|---|---|\n",
       "| Mazda RX4 | 21.0  | 6     | 160   | 110   | 3.90  | 2.620 | 16.46 | 0     | 1     | 4     | 4     | \n",
       "| Mazda RX4 Wag | 21.0  | 6     | 160   | 110   | 3.90  | 2.875 | 17.02 | 0     | 1     | 4     | 4     | \n",
       "| Datsun 710 | 22.8  | 4     | 108   |  93   | 3.85  | 2.320 | 18.61 | 1     | 1     | 4     | 1     | \n",
       "| Hornet 4 Drive | 21.4  | 6     | 258   | 110   | 3.08  | 3.215 | 19.44 | 1     | 0     | 3     | 1     | \n",
       "| Hornet Sportabout | 18.7  | 8     | 360   | 175   | 3.15  | 3.440 | 17.02 | 0     | 0     | 3     | 2     | \n",
       "| Valiant | 18.1  | 6     | 225   | 105   | 2.76  | 3.460 | 20.22 | 1     | 0     | 3     | 1     | \n",
       "\n",
       "\n"
      ],
      "text/plain": [
       "                  mpg  cyl disp hp  drat wt    qsec  vs am gear carb\n",
       "Mazda RX4         21.0 6   160  110 3.90 2.620 16.46 0  1  4    4   \n",
       "Mazda RX4 Wag     21.0 6   160  110 3.90 2.875 17.02 0  1  4    4   \n",
       "Datsun 710        22.8 4   108   93 3.85 2.320 18.61 1  1  4    1   \n",
       "Hornet 4 Drive    21.4 6   258  110 3.08 3.215 19.44 1  0  3    1   \n",
       "Hornet Sportabout 18.7 8   360  175 3.15 3.440 17.02 0  0  3    2   \n",
       "Valiant           18.1 6   225  105 2.76 3.460 20.22 1  0  3    1   "
      ]
     },
     "metadata": {},
     "output_type": "display_data"
    }
   ],
   "source": [
    "head(mtcars)"
   ]
  },
  {
   "cell_type": "markdown",
   "metadata": {},
   "source": [
    "<br>\n",
    "\n",
    "<h2> Principal Component Analysis </h2>\n",
    "\n",
    "Use the built-in principal component analysis function, using mean normalization on the data"
   ]
  },
  {
   "cell_type": "code",
   "execution_count": 4,
   "metadata": {
    "collapsed": true
   },
   "outputs": [],
   "source": [
    "pca = prcomp(mtcars, center=TRUE, scale.=TRUE)"
   ]
  },
  {
   "cell_type": "markdown",
   "metadata": {},
   "source": [
    "Here is a summary of the principal component analysis"
   ]
  },
  {
   "cell_type": "code",
   "execution_count": 5,
   "metadata": {},
   "outputs": [
    {
     "data": {
      "text/plain": [
       "Importance of components:\n",
       "                          PC1    PC2     PC3     PC4     PC5     PC6    PC7\n",
       "Standard deviation     2.5707 1.6280 0.79196 0.51923 0.47271 0.46000 0.3678\n",
       "Proportion of Variance 0.6008 0.2409 0.05702 0.02451 0.02031 0.01924 0.0123\n",
       "Cumulative Proportion  0.6008 0.8417 0.89873 0.92324 0.94356 0.96279 0.9751\n",
       "                           PC8    PC9    PC10   PC11\n",
       "Standard deviation     0.35057 0.2776 0.22811 0.1485\n",
       "Proportion of Variance 0.01117 0.0070 0.00473 0.0020\n",
       "Cumulative Proportion  0.98626 0.9933 0.99800 1.0000"
      ]
     },
     "metadata": {},
     "output_type": "display_data"
    }
   ],
   "source": [
    "summary(pca)"
   ]
  },
  {
   "cell_type": "markdown",
   "metadata": {},
   "source": [
    "These standard deviation values are the square roots of the eigenvalues of the covariance matrix for the data\n",
    "\n",
    "Notice that the first three principal components explain approximately 90% of the variance in the data\n",
    "\n",
    "Use ggplot2 to plot the the first two principal components for the data,\n",
    "giving the best spatial visualization of the data"
   ]
  },
  {
   "cell_type": "code",
   "execution_count": 6,
   "metadata": {},
   "outputs": [
    {
     "name": "stderr",
     "output_type": "stream",
     "text": [
      "Warning message:\n",
      "\"package 'ggplot2' was built under R version 3.3.3\""
     ]
    },
    {
     "data": {},
     "metadata": {},
     "output_type": "display_data"
    },
    {
     "data": {
      "image/png": "[encoded data removed]",
      "text/plain": [
       "plot without title"
      ]
     },
     "metadata": {},
     "output_type": "display_data"
    }
   ],
   "source": [
    "suppressMessages(require(ggplot2))\n",
    "options(repr.plot.width=6, repr.plot.height=4)\n",
    "ggplot(data.frame(pca$x)) + aes(x=PC1, y=PC2) + geom_point()"
   ]
  },
  {
   "cell_type": "markdown",
   "metadata": {},
   "source": [
    "<br>\n",
    "\n",
    "<h2> K-Means Clustering </h2>\n",
    "\n",
    "Cluster the original data using k-means, first with an explicit example using 3 clusters ($k=3$).\n",
    "\n",
    "The cluster means, cluster indices and the normalized within sum of squares are shown.\n",
    "\n",
    "(Confirmation of the withinSS computation is shown with the explicit cost function.)"
   ]
  },
  {
   "cell_type": "code",
   "execution_count": 7,
   "metadata": {},
   "outputs": [
    {
     "data": {
      "text/html": [
       "<table>\n",
       "<thead><tr><th></th><th scope=col>mpg</th><th scope=col>cyl</th><th scope=col>disp</th><th scope=col>hp</th><th scope=col>drat</th><th scope=col>wt</th><th scope=col>qsec</th><th scope=col>vs</th><th scope=col>am</th><th scope=col>gear</th><th scope=col>carb</th></tr></thead>\n",
       "<tbody>\n",
       "\t<tr><th scope=row>1</th><td>24.50000 </td><td>4.625000 </td><td>122.2937 </td><td> 96.8750 </td><td>4.002500 </td><td>2.518000 </td><td>18.54312 </td><td>0.7500000</td><td>0.6875000</td><td>4.125000 </td><td>2.437500 </td></tr>\n",
       "\t<tr><th scope=row>2</th><td>14.64444 </td><td>8.000000 </td><td>388.2222 </td><td>232.1111 </td><td>3.343333 </td><td>4.161556 </td><td>16.40444 </td><td>0.0000000</td><td>0.2222222</td><td>3.444444 </td><td>4.000000 </td></tr>\n",
       "\t<tr><th scope=row>3</th><td>17.01429 </td><td>7.428571 </td><td>276.0571 </td><td>150.7143 </td><td>2.994286 </td><td>3.601429 </td><td>18.11857 </td><td>0.2857143</td><td>0.0000000</td><td>3.000000 </td><td>2.142857 </td></tr>\n",
       "</tbody>\n",
       "</table>\n"
      ],
      "text/latex": [
       "\\begin{tabular}{r|lllllllllll}\n",
       "  & mpg & cyl & disp & hp & drat & wt & qsec & vs & am & gear & carb\\\\\n",
       "\\hline\n",
       "\t1 & 24.50000  & 4.625000  & 122.2937  &  96.8750  & 4.002500  & 2.518000  & 18.54312  & 0.7500000 & 0.6875000 & 4.125000  & 2.437500 \\\\\n",
       "\t2 & 14.64444  & 8.000000  & 388.2222  & 232.1111  & 3.343333  & 4.161556  & 16.40444  & 0.0000000 & 0.2222222 & 3.444444  & 4.000000 \\\\\n",
       "\t3 & 17.01429  & 7.428571  & 276.0571  & 150.7143  & 2.994286  & 3.601429  & 18.11857  & 0.2857143 & 0.0000000 & 3.000000  & 2.142857 \\\\\n",
       "\\end{tabular}\n"
      ],
      "text/markdown": [
       "\n",
       "| <!--/--> | mpg | cyl | disp | hp | drat | wt | qsec | vs | am | gear | carb | \n",
       "|---|---|---|\n",
       "| 1 | 24.50000  | 4.625000  | 122.2937  |  96.8750  | 4.002500  | 2.518000  | 18.54312  | 0.7500000 | 0.6875000 | 4.125000  | 2.437500  | \n",
       "| 2 | 14.64444  | 8.000000  | 388.2222  | 232.1111  | 3.343333  | 4.161556  | 16.40444  | 0.0000000 | 0.2222222 | 3.444444  | 4.000000  | \n",
       "| 3 | 17.01429  | 7.428571  | 276.0571  | 150.7143  | 2.994286  | 3.601429  | 18.11857  | 0.2857143 | 0.0000000 | 3.000000  | 2.142857  | \n",
       "\n",
       "\n"
      ],
      "text/plain": [
       "  mpg      cyl      disp     hp       drat     wt       qsec     vs       \n",
       "1 24.50000 4.625000 122.2937  96.8750 4.002500 2.518000 18.54312 0.7500000\n",
       "2 14.64444 8.000000 388.2222 232.1111 3.343333 4.161556 16.40444 0.0000000\n",
       "3 17.01429 7.428571 276.0571 150.7143 2.994286 3.601429 18.11857 0.2857143\n",
       "  am        gear     carb    \n",
       "1 0.6875000 4.125000 2.437500\n",
       "2 0.2222222 3.444444 4.000000\n",
       "3 0.0000000 3.000000 2.142857"
      ]
     },
     "metadata": {},
     "output_type": "display_data"
    },
    {
     "data": {
      "text/html": [
       "<table>\n",
       "<thead><tr><th scope=col>Mazda RX4</th><th scope=col>Mazda RX4 Wag</th><th scope=col>Datsun 710</th><th scope=col>Hornet 4 Drive</th><th scope=col>Hornet Sportabout</th><th scope=col>Valiant</th><th scope=col>Duster 360</th><th scope=col>Merc 240D</th><th scope=col>Merc 230</th><th scope=col>Merc 280</th><th scope=col>...</th><th scope=col>AMC Javelin</th><th scope=col>Camaro Z28</th><th scope=col>Pontiac Firebird</th><th scope=col>Fiat X1-9</th><th scope=col>Porsche 914-2</th><th scope=col>Lotus Europa</th><th scope=col>Ford Pantera L</th><th scope=col>Ferrari Dino</th><th scope=col>Maserati Bora</th><th scope=col>Volvo 142E</th></tr></thead>\n",
       "<tbody>\n",
       "\t<tr><td>1  </td><td>1  </td><td>1  </td><td>3  </td><td>2  </td><td>3  </td><td>2  </td><td>1  </td><td>1  </td><td>1  </td><td>...</td><td>3  </td><td>2  </td><td>2  </td><td>1  </td><td>1  </td><td>1  </td><td>2  </td><td>1  </td><td>2  </td><td>1  </td></tr>\n",
       "</tbody>\n",
       "</table>\n"
      ],
      "text/latex": [
       "\\begin{tabular}{llllllllllllllllllllllllllllllll}\n",
       " Mazda RX4 & Mazda RX4 Wag & Datsun 710 & Hornet 4 Drive & Hornet Sportabout & Valiant & Duster 360 & Merc 240D & Merc 230 & Merc 280 & ... & AMC Javelin & Camaro Z28 & Pontiac Firebird & Fiat X1-9 & Porsche 914-2 & Lotus Europa & Ford Pantera L & Ferrari Dino & Maserati Bora & Volvo 142E\\\\\n",
       "\\hline\n",
       "\t 1   & 1   & 1   & 3   & 2   & 3   & 2   & 1   & 1   & 1   & ... & 3   & 2   & 2   & 1   & 1   & 1   & 2   & 1   & 2   & 1  \\\\\n",
       "\\end{tabular}\n"
      ],
      "text/markdown": [
       "\n",
       "Mazda RX4 | Mazda RX4 Wag | Datsun 710 | Hornet 4 Drive | Hornet Sportabout | Valiant | Duster 360 | Merc 240D | Merc 230 | Merc 280 | ... | AMC Javelin | Camaro Z28 | Pontiac Firebird | Fiat X1-9 | Porsche 914-2 | Lotus Europa | Ford Pantera L | Ferrari Dino | Maserati Bora | Volvo 142E | \n",
       "|---|\n",
       "| 1   | 1   | 1   | 3   | 2   | 3   | 2   | 1   | 1   | 1   | ... | 3   | 2   | 2   | 1   | 1   | 1   | 2   | 1   | 2   | 1   | \n",
       "\n",
       "\n"
      ],
      "text/plain": [
       "     Mazda RX4 Mazda RX4 Wag Datsun 710 Hornet 4 Drive Hornet Sportabout\n",
       "[1,] 1         1             1          3              2                \n",
       "     Valiant Duster 360 Merc 240D Merc 230 Merc 280 ... AMC Javelin Camaro Z28\n",
       "[1,] 3       2          1         1        1        ... 3           2         \n",
       "     Pontiac Firebird Fiat X1-9 Porsche 914-2 Lotus Europa Ford Pantera L\n",
       "[1,] 2                1         1             1            2             \n",
       "     Ferrari Dino Maserati Bora Volvo 142E\n",
       "[1,] 1            2             1         "
      ]
     },
     "metadata": {},
     "output_type": "display_data"
    },
    {
     "data": {
      "text/html": [
       "2854"
      ],
      "text/latex": [
       "2854"
      ],
      "text/markdown": [
       "2854"
      ],
      "text/plain": [
       "[1] 2854"
      ]
     },
     "metadata": {},
     "output_type": "display_data"
    },
    {
     "data": {
      "text/html": [
       "2854"
      ],
      "text/latex": [
       "2854"
      ],
      "text/markdown": [
       "2854"
      ],
      "text/plain": [
       "[1] 2854"
      ]
     },
     "metadata": {},
     "output_type": "display_data"
    }
   ],
   "source": [
    "set.seed(283)\n",
    "clusters = kmeans(mtcars, centers=3, nstart=20)\n",
    "clusters$centers\n",
    "rbind(clusters$cluster)\n",
    "sum(round(clusters$withinss / dim(mtcars)[1], 0))\n",
    "\n",
    "cost = 0\n",
    "for (i in 1:dim(mtcars)[1]) {\n",
    "    cost = cost + sum((mtcars[i,] - clusters$centers[clusters$cluster[i],])^2)\n",
    "}\n",
    "round(cost / dim(mtcars)[1], 0)"
   ]
  },
  {
   "cell_type": "markdown",
   "metadata": {},
   "source": [
    "Now the withinSS is shown for increasing choices of $k$ (the specified number of clusters for which to look).\n",
    "\n",
    "Notice that this error quickly drops off, as better fitting clusters are determined.\n",
    "\n",
    "Typically a <i>knee point</i> is sought, where the error has been effectively minimized,\n",
    "and further clusters provide very marginal gains in error reduction."
   ]
  },
  {
   "cell_type": "code",
   "execution_count": 8,
   "metadata": {},
   "outputs": [
    {
     "data": {},
     "metadata": {},
     "output_type": "display_data"
    },
    {
     "data": {
      "image/png": "[encoded data removed]",
      "text/plain": [
       "plot without title"
      ]
     },
     "metadata": {},
     "output_type": "display_data"
    }
   ],
   "source": [
    "set.seed(283)\n",
    "N = 20\n",
    "withinSS = rep(NA, N)\n",
    "for (k in 1:N) {\n",
    "    clusters = kmeans(mtcars, center=k, nstart=20)\n",
    "    withinSS[k] = round(sum(clusters$withinss), 0)\n",
    "#     print(paste(\"N = \", N, sep=\"\"))\n",
    "#     print(paste(\"The withinSS for k=\", k, \" is \", round(sum(clusters$withinss), 0), sep=\"\"))\n",
    "#     print(paste(\"The totSS = \", round(clusters$totss, 0), sep=\"\"))\n",
    "#     print(paste(\"The betweenSS = \", round(clusters$betweenss, 0), sep=\"\"))\n",
    "#     print(paste(\"---------------------------\"))\n",
    "}\n",
    "\n",
    "require(ggplot2)\n",
    "ggplot() + aes(x=1:N, y=withinSS) + geom_line() + geom_point(col=\"blue\") + xlab(\"k\") + ylab(\"WithinSS Error\")"
   ]
  },
  {
   "cell_type": "markdown",
   "metadata": {},
   "source": [
    "The PCA spatial visualization is now highlighted by the cluster choices for various $k$,\n",
    "in order to demonstrate how well the clusters are partitioning the data."
   ]
  },
  {
   "cell_type": "code",
   "execution_count": 9,
   "metadata": {
    "collapsed": true
   },
   "outputs": [],
   "source": [
    "show_clusters = function(k) {\n",
    "    clusters = kmeans(mtcars, centers=k, nstart=20)\n",
    "    options(repr.plot.width=4, repr.plot.height=3)\n",
    "    ggplot(data.frame(pca$x)) + aes(x=PC1, y=PC2) + geom_point(col=clusters$cluster)\n",
    "}"
   ]
  },
  {
   "cell_type": "code",
   "execution_count": 10,
   "metadata": {},
   "outputs": [
    {
     "data": {},
     "metadata": {},
     "output_type": "display_data"
    },
    {
     "data": {
      "image/png": "[encoded data removed]",
      "text/plain": [
       "plot without title"
      ]
     },
     "metadata": {},
     "output_type": "display_data"
    }
   ],
   "source": [
    "show_clusters(3)"
   ]
  }
 ],
 "metadata": {
  "kernelspec": {
   "display_name": "R",
   "language": "R",
   "name": "ir"
  },
  "language_info": {
   "codemirror_mode": "r",
   "file_extension": ".r",
   "mimetype": "text/x-r-source",
   "name": "R",
   "pygments_lexer": "r",
   "version": "3.6.2"
  }
 },
 "nbformat": 4,
 "nbformat_minor": 2
}
