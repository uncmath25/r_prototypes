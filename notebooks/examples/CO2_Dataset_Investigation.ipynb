{
 "cells": [
  {
   "cell_type": "markdown",
   "metadata": {},
   "source": [
    "<h1> R CO2 Dataset Practice </h1>"
   ]
  },
  {
   "cell_type": "markdown",
   "metadata": {},
   "source": [
    "A R stock dataset is investigated, which considers how 2 treatments on plants affect their C02 update rates"
   ]
  },
  {
   "cell_type": "code",
   "execution_count": 1,
   "metadata": {},
   "outputs": [
    {
     "data": {
      "text/html": [
       "<ol class=list-inline>\n",
       "\t<li>84</li>\n",
       "\t<li>5</li>\n",
       "</ol>\n"
      ],
      "text/latex": [
       "\\begin{enumerate*}\n",
       "\\item 84\n",
       "\\item 5\n",
       "\\end{enumerate*}\n"
      ],
      "text/markdown": [
       "1. 84\n",
       "2. 5\n",
       "\n",
       "\n"
      ],
      "text/plain": [
       "[1] 84  5"
      ]
     },
     "metadata": {},
     "output_type": "display_data"
    },
    {
     "data": {
      "text/html": [
       "<table>\n",
       "<caption>A nfnGroupedData: 6 × 5</caption>\n",
       "<thead>\n",
       "\t<tr><th scope=col>Plant</th><th scope=col>Type</th><th scope=col>Treatment</th><th scope=col>conc</th><th scope=col>uptake</th></tr>\n",
       "\t<tr><th scope=col>&lt;ord&gt;</th><th scope=col>&lt;fct&gt;</th><th scope=col>&lt;fct&gt;</th><th scope=col>&lt;dbl&gt;</th><th scope=col>&lt;dbl&gt;</th></tr>\n",
       "</thead>\n",
       "<tbody>\n",
       "\t<tr><td>Qn1</td><td>Quebec</td><td>nonchilled</td><td> 95</td><td>16.0</td></tr>\n",
       "\t<tr><td>Qn1</td><td>Quebec</td><td>nonchilled</td><td>175</td><td>30.4</td></tr>\n",
       "\t<tr><td>Qn1</td><td>Quebec</td><td>nonchilled</td><td>250</td><td>34.8</td></tr>\n",
       "\t<tr><td>Qn1</td><td>Quebec</td><td>nonchilled</td><td>350</td><td>37.2</td></tr>\n",
       "\t<tr><td>Qn1</td><td>Quebec</td><td>nonchilled</td><td>500</td><td>35.3</td></tr>\n",
       "\t<tr><td>Qn1</td><td>Quebec</td><td>nonchilled</td><td>675</td><td>39.2</td></tr>\n",
       "</tbody>\n",
       "</table>\n"
      ],
      "text/latex": [
       "A nfnGroupedData: 6 × 5\n",
       "\\begin{tabular}{r|lllll}\n",
       " Plant & Type & Treatment & conc & uptake\\\\\n",
       " <ord> & <fct> & <fct> & <dbl> & <dbl>\\\\\n",
       "\\hline\n",
       "\t Qn1 & Quebec & nonchilled &  95 & 16.0\\\\\n",
       "\t Qn1 & Quebec & nonchilled & 175 & 30.4\\\\\n",
       "\t Qn1 & Quebec & nonchilled & 250 & 34.8\\\\\n",
       "\t Qn1 & Quebec & nonchilled & 350 & 37.2\\\\\n",
       "\t Qn1 & Quebec & nonchilled & 500 & 35.3\\\\\n",
       "\t Qn1 & Quebec & nonchilled & 675 & 39.2\\\\\n",
       "\\end{tabular}\n"
      ],
      "text/markdown": [
       "\n",
       "A nfnGroupedData: 6 × 5\n",
       "\n",
       "| Plant &lt;ord&gt; | Type &lt;fct&gt; | Treatment &lt;fct&gt; | conc &lt;dbl&gt; | uptake &lt;dbl&gt; |\n",
       "|---|---|---|---|---|\n",
       "| Qn1 | Quebec | nonchilled |  95 | 16.0 |\n",
       "| Qn1 | Quebec | nonchilled | 175 | 30.4 |\n",
       "| Qn1 | Quebec | nonchilled | 250 | 34.8 |\n",
       "| Qn1 | Quebec | nonchilled | 350 | 37.2 |\n",
       "| Qn1 | Quebec | nonchilled | 500 | 35.3 |\n",
       "| Qn1 | Quebec | nonchilled | 675 | 39.2 |\n",
       "\n"
      ],
      "text/plain": [
       "  Plant Type   Treatment  conc uptake\n",
       "1 Qn1   Quebec nonchilled  95  16.0  \n",
       "2 Qn1   Quebec nonchilled 175  30.4  \n",
       "3 Qn1   Quebec nonchilled 250  34.8  \n",
       "4 Qn1   Quebec nonchilled 350  37.2  \n",
       "5 Qn1   Quebec nonchilled 500  35.3  \n",
       "6 Qn1   Quebec nonchilled 675  39.2  "
      ]
     },
     "metadata": {},
     "output_type": "display_data"
    }
   ],
   "source": [
    "dim(CO2)\n",
    "head(CO2)"
   ]
  },
  {
   "cell_type": "markdown",
   "metadata": {},
   "source": [
    "Examing the factor levels of each columns shows that this data set consist of paired data,\n",
    "where 2 treatments are applied (nonchilled and chilled) to 2 difference types of plants,\n",
    "using 3 individual plants for each treament and type.\n",
    "Finally the CO2 concentration is also varied between 7 difference ambient CO2 concentrations.\n",
    "Therefore the response variable of interest is the CO2 uptake rate of the 2*3*2*7=84 different cases."
   ]
  },
  {
   "cell_type": "code",
   "execution_count": 2,
   "metadata": {},
   "outputs": [
    {
     "name": "stdout",
     "output_type": "stream",
     "text": [
      "\n",
      "Qn1 Qn2 Qn3 Qc1 Qc3 Qc2 Mn3 Mn2 Mn1 Mc2 Mc3 Mc1 \n",
      "  7   7   7   7   7   7   7   7   7   7   7   7 \n",
      "\n",
      "     Quebec Mississippi \n",
      "         42          42 \n",
      "\n",
      "nonchilled    chilled \n",
      "        42         42 \n",
      "\n",
      "  95  175  250  350  500  675 1000 \n",
      "  12   12   12   12   12   12   12 \n",
      "\n",
      " 7.7  9.3 10.5 10.6 11.3 11.4   12 12.3 12.5   13 13.6 13.7 14.2 14.4 14.9 15.1 \n",
      "   1    1    1    2    1    1    1    1    1    1    1    1    1    1    1    1 \n",
      "  16 16.2 17.9   18 18.1 18.9 19.2 19.4 19.5 19.9   21 21.9   22 22.2 24.1 25.8 \n",
      "   1    1    3    1    1    2    1    1    1    1    1    1    1    1    1    1 \n",
      "26.2 27.3 27.8 27.9 28.1 28.5   30 30.3 30.4 30.6 30.9 31.1 31.5 31.8 32.4 32.5 \n",
      "   1    2    1    1    1    1    1    1    1    1    1    1    1    1    3    1 \n",
      "  34 34.6 34.8   35 35.3 35.4 35.5 37.1 37.2 37.5 38.1 38.6 38.7 38.8 38.9 39.2 \n",
      "   1    1    1    1    1    1    1    1    1    1    1    1    1    1    1    1 \n",
      "39.6 39.7 40.3 40.6 41.4 41.8 42.1 42.4 42.9 43.9 44.3 45.5 \n",
      "   1    1    1    1    2    1    1    1    1    1    1    1 \n"
     ]
    }
   ],
   "source": [
    "for (col_name in names(CO2)) {print(table(CO2[[col_name]]))}"
   ]
  },
  {
   "cell_type": "markdown",
   "metadata": {},
   "source": [
    "Consider the two subsets of nonchilled and chilled treatments, then order them both in the same way,\n",
    "in order to ensure that the data is properly paired."
   ]
  },
  {
   "cell_type": "code",
   "execution_count": 3,
   "metadata": {},
   "outputs": [
    {
     "data": {
      "text/html": [
       "<table>\n",
       "<caption>A nfnGroupedData: 10 × 5</caption>\n",
       "<thead>\n",
       "\t<tr><th></th><th scope=col>Plant</th><th scope=col>Type</th><th scope=col>Treatment</th><th scope=col>conc</th><th scope=col>uptake</th></tr>\n",
       "\t<tr><th></th><th scope=col>&lt;ord&gt;</th><th scope=col>&lt;fct&gt;</th><th scope=col>&lt;fct&gt;</th><th scope=col>&lt;dbl&gt;</th><th scope=col>&lt;dbl&gt;</th></tr>\n",
       "</thead>\n",
       "<tbody>\n",
       "\t<tr><th scope=row>43</th><td>Mn1</td><td>Mississippi</td><td>nonchilled</td><td>  95</td><td>10.6</td></tr>\n",
       "\t<tr><th scope=row>44</th><td>Mn1</td><td>Mississippi</td><td>nonchilled</td><td> 175</td><td>19.2</td></tr>\n",
       "\t<tr><th scope=row>45</th><td>Mn1</td><td>Mississippi</td><td>nonchilled</td><td> 250</td><td>26.2</td></tr>\n",
       "\t<tr><th scope=row>46</th><td>Mn1</td><td>Mississippi</td><td>nonchilled</td><td> 350</td><td>30.0</td></tr>\n",
       "\t<tr><th scope=row>47</th><td>Mn1</td><td>Mississippi</td><td>nonchilled</td><td> 500</td><td>30.9</td></tr>\n",
       "\t<tr><th scope=row>48</th><td>Mn1</td><td>Mississippi</td><td>nonchilled</td><td> 675</td><td>32.4</td></tr>\n",
       "\t<tr><th scope=row>49</th><td>Mn1</td><td>Mississippi</td><td>nonchilled</td><td>1000</td><td>35.5</td></tr>\n",
       "\t<tr><th scope=row>50</th><td>Mn2</td><td>Mississippi</td><td>nonchilled</td><td>  95</td><td>12.0</td></tr>\n",
       "\t<tr><th scope=row>51</th><td>Mn2</td><td>Mississippi</td><td>nonchilled</td><td> 175</td><td>22.0</td></tr>\n",
       "\t<tr><th scope=row>52</th><td>Mn2</td><td>Mississippi</td><td>nonchilled</td><td> 250</td><td>30.6</td></tr>\n",
       "</tbody>\n",
       "</table>\n"
      ],
      "text/latex": [
       "A nfnGroupedData: 10 × 5\n",
       "\\begin{tabular}{r|lllll}\n",
       "  & Plant & Type & Treatment & conc & uptake\\\\\n",
       "  & <ord> & <fct> & <fct> & <dbl> & <dbl>\\\\\n",
       "\\hline\n",
       "\t43 & Mn1 & Mississippi & nonchilled &   95 & 10.6\\\\\n",
       "\t44 & Mn1 & Mississippi & nonchilled &  175 & 19.2\\\\\n",
       "\t45 & Mn1 & Mississippi & nonchilled &  250 & 26.2\\\\\n",
       "\t46 & Mn1 & Mississippi & nonchilled &  350 & 30.0\\\\\n",
       "\t47 & Mn1 & Mississippi & nonchilled &  500 & 30.9\\\\\n",
       "\t48 & Mn1 & Mississippi & nonchilled &  675 & 32.4\\\\\n",
       "\t49 & Mn1 & Mississippi & nonchilled & 1000 & 35.5\\\\\n",
       "\t50 & Mn2 & Mississippi & nonchilled &   95 & 12.0\\\\\n",
       "\t51 & Mn2 & Mississippi & nonchilled &  175 & 22.0\\\\\n",
       "\t52 & Mn2 & Mississippi & nonchilled &  250 & 30.6\\\\\n",
       "\\end{tabular}\n"
      ],
      "text/markdown": [
       "\n",
       "A nfnGroupedData: 10 × 5\n",
       "\n",
       "| <!--/--> | Plant &lt;ord&gt; | Type &lt;fct&gt; | Treatment &lt;fct&gt; | conc &lt;dbl&gt; | uptake &lt;dbl&gt; |\n",
       "|---|---|---|---|---|---|\n",
       "| 43 | Mn1 | Mississippi | nonchilled |   95 | 10.6 |\n",
       "| 44 | Mn1 | Mississippi | nonchilled |  175 | 19.2 |\n",
       "| 45 | Mn1 | Mississippi | nonchilled |  250 | 26.2 |\n",
       "| 46 | Mn1 | Mississippi | nonchilled |  350 | 30.0 |\n",
       "| 47 | Mn1 | Mississippi | nonchilled |  500 | 30.9 |\n",
       "| 48 | Mn1 | Mississippi | nonchilled |  675 | 32.4 |\n",
       "| 49 | Mn1 | Mississippi | nonchilled | 1000 | 35.5 |\n",
       "| 50 | Mn2 | Mississippi | nonchilled |   95 | 12.0 |\n",
       "| 51 | Mn2 | Mississippi | nonchilled |  175 | 22.0 |\n",
       "| 52 | Mn2 | Mississippi | nonchilled |  250 | 30.6 |\n",
       "\n"
      ],
      "text/plain": [
       "   Plant Type        Treatment  conc uptake\n",
       "43 Mn1   Mississippi nonchilled   95 10.6  \n",
       "44 Mn1   Mississippi nonchilled  175 19.2  \n",
       "45 Mn1   Mississippi nonchilled  250 26.2  \n",
       "46 Mn1   Mississippi nonchilled  350 30.0  \n",
       "47 Mn1   Mississippi nonchilled  500 30.9  \n",
       "48 Mn1   Mississippi nonchilled  675 32.4  \n",
       "49 Mn1   Mississippi nonchilled 1000 35.5  \n",
       "50 Mn2   Mississippi nonchilled   95 12.0  \n",
       "51 Mn2   Mississippi nonchilled  175 22.0  \n",
       "52 Mn2   Mississippi nonchilled  250 30.6  "
      ]
     },
     "metadata": {},
     "output_type": "display_data"
    }
   ],
   "source": [
    "nonchilled_df = CO2[which(CO2$Treatment == 'nonchilled'), ]\n",
    "nonchilled_df = nonchilled_df[order(as.character(nonchilled_df$Plant), as.numeric(nonchilled_df$conc)), ]\n",
    "head(nonchilled_df, 10)"
   ]
  },
  {
   "cell_type": "code",
   "execution_count": 4,
   "metadata": {},
   "outputs": [
    {
     "data": {
      "text/html": [
       "<table>\n",
       "<caption>A nfnGroupedData: 10 × 5</caption>\n",
       "<thead>\n",
       "\t<tr><th></th><th scope=col>Plant</th><th scope=col>Type</th><th scope=col>Treatment</th><th scope=col>conc</th><th scope=col>uptake</th></tr>\n",
       "\t<tr><th></th><th scope=col>&lt;ord&gt;</th><th scope=col>&lt;fct&gt;</th><th scope=col>&lt;fct&gt;</th><th scope=col>&lt;dbl&gt;</th><th scope=col>&lt;dbl&gt;</th></tr>\n",
       "</thead>\n",
       "<tbody>\n",
       "\t<tr><th scope=row>64</th><td>Mc1</td><td>Mississippi</td><td>chilled</td><td>  95</td><td>10.5</td></tr>\n",
       "\t<tr><th scope=row>65</th><td>Mc1</td><td>Mississippi</td><td>chilled</td><td> 175</td><td>14.9</td></tr>\n",
       "\t<tr><th scope=row>66</th><td>Mc1</td><td>Mississippi</td><td>chilled</td><td> 250</td><td>18.1</td></tr>\n",
       "\t<tr><th scope=row>67</th><td>Mc1</td><td>Mississippi</td><td>chilled</td><td> 350</td><td>18.9</td></tr>\n",
       "\t<tr><th scope=row>68</th><td>Mc1</td><td>Mississippi</td><td>chilled</td><td> 500</td><td>19.5</td></tr>\n",
       "\t<tr><th scope=row>69</th><td>Mc1</td><td>Mississippi</td><td>chilled</td><td> 675</td><td>22.2</td></tr>\n",
       "\t<tr><th scope=row>70</th><td>Mc1</td><td>Mississippi</td><td>chilled</td><td>1000</td><td>21.9</td></tr>\n",
       "\t<tr><th scope=row>71</th><td>Mc2</td><td>Mississippi</td><td>chilled</td><td>  95</td><td> 7.7</td></tr>\n",
       "\t<tr><th scope=row>72</th><td>Mc2</td><td>Mississippi</td><td>chilled</td><td> 175</td><td>11.4</td></tr>\n",
       "\t<tr><th scope=row>73</th><td>Mc2</td><td>Mississippi</td><td>chilled</td><td> 250</td><td>12.3</td></tr>\n",
       "</tbody>\n",
       "</table>\n"
      ],
      "text/latex": [
       "A nfnGroupedData: 10 × 5\n",
       "\\begin{tabular}{r|lllll}\n",
       "  & Plant & Type & Treatment & conc & uptake\\\\\n",
       "  & <ord> & <fct> & <fct> & <dbl> & <dbl>\\\\\n",
       "\\hline\n",
       "\t64 & Mc1 & Mississippi & chilled &   95 & 10.5\\\\\n",
       "\t65 & Mc1 & Mississippi & chilled &  175 & 14.9\\\\\n",
       "\t66 & Mc1 & Mississippi & chilled &  250 & 18.1\\\\\n",
       "\t67 & Mc1 & Mississippi & chilled &  350 & 18.9\\\\\n",
       "\t68 & Mc1 & Mississippi & chilled &  500 & 19.5\\\\\n",
       "\t69 & Mc1 & Mississippi & chilled &  675 & 22.2\\\\\n",
       "\t70 & Mc1 & Mississippi & chilled & 1000 & 21.9\\\\\n",
       "\t71 & Mc2 & Mississippi & chilled &   95 &  7.7\\\\\n",
       "\t72 & Mc2 & Mississippi & chilled &  175 & 11.4\\\\\n",
       "\t73 & Mc2 & Mississippi & chilled &  250 & 12.3\\\\\n",
       "\\end{tabular}\n"
      ],
      "text/markdown": [
       "\n",
       "A nfnGroupedData: 10 × 5\n",
       "\n",
       "| <!--/--> | Plant &lt;ord&gt; | Type &lt;fct&gt; | Treatment &lt;fct&gt; | conc &lt;dbl&gt; | uptake &lt;dbl&gt; |\n",
       "|---|---|---|---|---|---|\n",
       "| 64 | Mc1 | Mississippi | chilled |   95 | 10.5 |\n",
       "| 65 | Mc1 | Mississippi | chilled |  175 | 14.9 |\n",
       "| 66 | Mc1 | Mississippi | chilled |  250 | 18.1 |\n",
       "| 67 | Mc1 | Mississippi | chilled |  350 | 18.9 |\n",
       "| 68 | Mc1 | Mississippi | chilled |  500 | 19.5 |\n",
       "| 69 | Mc1 | Mississippi | chilled |  675 | 22.2 |\n",
       "| 70 | Mc1 | Mississippi | chilled | 1000 | 21.9 |\n",
       "| 71 | Mc2 | Mississippi | chilled |   95 |  7.7 |\n",
       "| 72 | Mc2 | Mississippi | chilled |  175 | 11.4 |\n",
       "| 73 | Mc2 | Mississippi | chilled |  250 | 12.3 |\n",
       "\n"
      ],
      "text/plain": [
       "   Plant Type        Treatment conc uptake\n",
       "64 Mc1   Mississippi chilled     95 10.5  \n",
       "65 Mc1   Mississippi chilled    175 14.9  \n",
       "66 Mc1   Mississippi chilled    250 18.1  \n",
       "67 Mc1   Mississippi chilled    350 18.9  \n",
       "68 Mc1   Mississippi chilled    500 19.5  \n",
       "69 Mc1   Mississippi chilled    675 22.2  \n",
       "70 Mc1   Mississippi chilled   1000 21.9  \n",
       "71 Mc2   Mississippi chilled     95  7.7  \n",
       "72 Mc2   Mississippi chilled    175 11.4  \n",
       "73 Mc2   Mississippi chilled    250 12.3  "
      ]
     },
     "metadata": {},
     "output_type": "display_data"
    }
   ],
   "source": [
    "chilled_df = CO2[which(CO2$Treatment == 'chilled'), ]\n",
    "chilled_df = chilled_df[order(as.character(chilled_df$Plant), as.numeric(chilled_df$conc)), ]\n",
    "head(chilled_df, 10)"
   ]
  },
  {
   "cell_type": "code",
   "execution_count": 5,
   "metadata": {},
   "outputs": [
    {
     "data": {
      "text/html": [
       "<table>\n",
       "<caption>A nfnGroupedData: 10 × 3</caption>\n",
       "<thead>\n",
       "\t<tr><th></th><th scope=col>Plant</th><th scope=col>Type</th><th scope=col>uptake_diff</th></tr>\n",
       "\t<tr><th></th><th scope=col>&lt;ord&gt;</th><th scope=col>&lt;fct&gt;</th><th scope=col>&lt;dbl&gt;</th></tr>\n",
       "</thead>\n",
       "<tbody>\n",
       "\t<tr><th scope=row>43</th><td>Mn1</td><td>Mississippi</td><td> 0.1</td></tr>\n",
       "\t<tr><th scope=row>44</th><td>Mn1</td><td>Mississippi</td><td> 4.3</td></tr>\n",
       "\t<tr><th scope=row>45</th><td>Mn1</td><td>Mississippi</td><td> 8.1</td></tr>\n",
       "\t<tr><th scope=row>46</th><td>Mn1</td><td>Mississippi</td><td>11.1</td></tr>\n",
       "\t<tr><th scope=row>47</th><td>Mn1</td><td>Mississippi</td><td>11.4</td></tr>\n",
       "\t<tr><th scope=row>48</th><td>Mn1</td><td>Mississippi</td><td>10.2</td></tr>\n",
       "\t<tr><th scope=row>49</th><td>Mn1</td><td>Mississippi</td><td>13.6</td></tr>\n",
       "\t<tr><th scope=row>50</th><td>Mn2</td><td>Mississippi</td><td> 4.3</td></tr>\n",
       "\t<tr><th scope=row>51</th><td>Mn2</td><td>Mississippi</td><td>10.6</td></tr>\n",
       "\t<tr><th scope=row>52</th><td>Mn2</td><td>Mississippi</td><td>18.3</td></tr>\n",
       "</tbody>\n",
       "</table>\n"
      ],
      "text/latex": [
       "A nfnGroupedData: 10 × 3\n",
       "\\begin{tabular}{r|lll}\n",
       "  & Plant & Type & uptake\\_diff\\\\\n",
       "  & <ord> & <fct> & <dbl>\\\\\n",
       "\\hline\n",
       "\t43 & Mn1 & Mississippi &  0.1\\\\\n",
       "\t44 & Mn1 & Mississippi &  4.3\\\\\n",
       "\t45 & Mn1 & Mississippi &  8.1\\\\\n",
       "\t46 & Mn1 & Mississippi & 11.1\\\\\n",
       "\t47 & Mn1 & Mississippi & 11.4\\\\\n",
       "\t48 & Mn1 & Mississippi & 10.2\\\\\n",
       "\t49 & Mn1 & Mississippi & 13.6\\\\\n",
       "\t50 & Mn2 & Mississippi &  4.3\\\\\n",
       "\t51 & Mn2 & Mississippi & 10.6\\\\\n",
       "\t52 & Mn2 & Mississippi & 18.3\\\\\n",
       "\\end{tabular}\n"
      ],
      "text/markdown": [
       "\n",
       "A nfnGroupedData: 10 × 3\n",
       "\n",
       "| <!--/--> | Plant &lt;ord&gt; | Type &lt;fct&gt; | uptake_diff &lt;dbl&gt; |\n",
       "|---|---|---|---|\n",
       "| 43 | Mn1 | Mississippi |  0.1 |\n",
       "| 44 | Mn1 | Mississippi |  4.3 |\n",
       "| 45 | Mn1 | Mississippi |  8.1 |\n",
       "| 46 | Mn1 | Mississippi | 11.1 |\n",
       "| 47 | Mn1 | Mississippi | 11.4 |\n",
       "| 48 | Mn1 | Mississippi | 10.2 |\n",
       "| 49 | Mn1 | Mississippi | 13.6 |\n",
       "| 50 | Mn2 | Mississippi |  4.3 |\n",
       "| 51 | Mn2 | Mississippi | 10.6 |\n",
       "| 52 | Mn2 | Mississippi | 18.3 |\n",
       "\n"
      ],
      "text/plain": [
       "   Plant Type        uptake_diff\n",
       "43 Mn1   Mississippi  0.1       \n",
       "44 Mn1   Mississippi  4.3       \n",
       "45 Mn1   Mississippi  8.1       \n",
       "46 Mn1   Mississippi 11.1       \n",
       "47 Mn1   Mississippi 11.4       \n",
       "48 Mn1   Mississippi 10.2       \n",
       "49 Mn1   Mississippi 13.6       \n",
       "50 Mn2   Mississippi  4.3       \n",
       "51 Mn2   Mississippi 10.6       \n",
       "52 Mn2   Mississippi 18.3       "
      ]
     },
     "metadata": {},
     "output_type": "display_data"
    }
   ],
   "source": [
    "diff_df = nonchilled_df[, names(nonchilled_df) %in% c('Plant', 'Type')]\n",
    "diff_df['uptake_diff'] = nonchilled_df$uptake - chilled_df$uptake\n",
    "head(diff_df, 10)"
   ]
  },
  {
   "cell_type": "markdown",
   "metadata": {},
   "source": [
    "Simple investigation suggests that the nonchilled treatment induces higher CO2 update rates in the plants.\n",
    "An easy way to see this is by their sample distributions."
   ]
  },
  {
   "cell_type": "code",
   "execution_count": 6,
   "metadata": {},
   "outputs": [
    {
     "data": {
      "image/png": "[encoded data removed]",
      "text/plain": [
       "Plot with title “Nonchilled Observations”"
      ]
     },
     "metadata": {},
     "output_type": "display_data"
    },
    {
     "data": {
      "image/png": "[encoded data removed]",
      "text/plain": [
       "Plot with title “Chilled Observations”"
      ]
     },
     "metadata": {},
     "output_type": "display_data"
    },
    {
     "data": {
      "image/png": "[encoded data removed]",
      "text/plain": [
       "Plot with title “Diff Observations”"
      ]
     },
     "metadata": {},
     "output_type": "display_data"
    }
   ],
   "source": [
    "library(repr)\n",
    "options(repr.plot.width=8, repr.plot.height=4)\n",
    "hist(nonchilled_df$uptake, main='Nonchilled Observations', xlab='Update Rates', ylab='Counts',\n",
    "     breaks=10*0:10, xlim=c(0, 100))\n",
    "hist(chilled_df$uptake, main='Chilled Observations', xlab='Update Rates', ylab='Counts',\n",
    "     breaks=10*0:10, xlim=c(0, 100))\n",
    "hist(diff_df$uptake_diff, main='Diff Observations', xlab='Update Rates', ylab='Counts',\n",
    "     breaks=4*-5:5, xlim=c(-20, 20))"
   ]
  },
  {
   "cell_type": "markdown",
   "metadata": {},
   "source": [
    "At this point, it can be more robustly proven that there is a statistical difference between the 2 treatment.\n",
    "Here a t-test is an easy and appropriate way to validate this difference.\n",
    "Notice that a paired t-test is equivalent to a one-sample t-test of the differences.\n",
    "(The consistent ordering of the paired data mentioned previously is important here.)"
   ]
  },
  {
   "cell_type": "code",
   "execution_count": 7,
   "metadata": {},
   "outputs": [
    {
     "data": {
      "text/plain": [
       "\n",
       "\tOne Sample t-test\n",
       "\n",
       "data:  diff_df$uptake_diff\n",
       "t = 7.939, df = 41, p-value = 8.051e-10\n",
       "alternative hypothesis: true mean is not equal to 0\n",
       "95 percent confidence interval:\n",
       " 5.114589 8.604458\n",
       "sample estimates:\n",
       "mean of x \n",
       " 6.859524 \n"
      ]
     },
     "metadata": {},
     "output_type": "display_data"
    }
   ],
   "source": [
    "t.test(diff_df$uptake_diff)"
   ]
  },
  {
   "cell_type": "code",
   "execution_count": 8,
   "metadata": {},
   "outputs": [
    {
     "data": {
      "text/plain": [
       "\n",
       "\tPaired t-test\n",
       "\n",
       "data:  nonchilled_df$uptake and chilled_df$uptake\n",
       "t = 7.939, df = 41, p-value = 8.051e-10\n",
       "alternative hypothesis: true difference in means is not equal to 0\n",
       "95 percent confidence interval:\n",
       " 5.114589 8.604458\n",
       "sample estimates:\n",
       "mean of the differences \n",
       "               6.859524 \n"
      ]
     },
     "metadata": {},
     "output_type": "display_data"
    }
   ],
   "source": [
    "t.test(nonchilled_df$uptake, chilled_df$uptake, paired=T)"
   ]
  },
  {
   "cell_type": "markdown",
   "metadata": {},
   "source": [
    "Here the p-value is clearly significant ($p<0.05$ is an understatement),\n",
    "so the chilled treatment does indeed reduce CO2 uptake rates,\n",
    "with an expected reduction of $6.86$, with a 95% confidence intervale of $[5.11, 8.60]$.\n",
    "Notice that the paired nature of the data was indeed important,\n",
    "as the unpaired t-test yields a much less accurate confidence interval for the treatment uptake rate difference."
   ]
  },
  {
   "cell_type": "code",
   "execution_count": 9,
   "metadata": {},
   "outputs": [
    {
     "data": {
      "text/plain": [
       "\n",
       "\tWelch Two Sample t-test\n",
       "\n",
       "data:  nonchilled_df$uptake and chilled_df$uptake\n",
       "t = 3.0485, df = 80.945, p-value = 0.003107\n",
       "alternative hypothesis: true difference in means is not equal to 0\n",
       "95 percent confidence interval:\n",
       "  2.382366 11.336682\n",
       "sample estimates:\n",
       "mean of x mean of y \n",
       " 30.64286  23.78333 \n"
      ]
     },
     "metadata": {},
     "output_type": "display_data"
    }
   ],
   "source": [
    "t.test(nonchilled_df$uptake, chilled_df$uptake)"
   ]
  }
 ],
 "metadata": {
  "kernelspec": {
   "display_name": "R",
   "language": "R",
   "name": "ir"
  },
  "language_info": {
   "codemirror_mode": "r",
   "file_extension": ".r",
   "mimetype": "text/x-r-source",
   "name": "R",
   "pygments_lexer": "r",
   "version": "3.6.2"
  }
 },
 "nbformat": 4,
 "nbformat_minor": 2
}
